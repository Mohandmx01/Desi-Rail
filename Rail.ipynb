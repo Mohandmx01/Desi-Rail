{
  "nbformat": 4,
  "nbformat_minor": 0,
  "metadata": {
    "colab": {
      "provenance": []
    },
    "kernelspec": {
      "name": "python3",
      "display_name": "Python 3"
    },
    "language_info": {
      "name": "python"
    }
  },
  "cells": [
    {
      "cell_type": "code",
      "execution_count": null,
      "metadata": {
        "id": "UbJkRY7sGV5D"
      },
      "outputs": [],
      "source": [
        "import pandas as pd\n"
      ]
    },
    {
      "cell_type": "code",
      "source": [
        "import json"
      ],
      "metadata": {
        "id": "fYpeqGiQGs-2"
      },
      "execution_count": null,
      "outputs": []
    },
    {
      "cell_type": "code",
      "source": [
        "import pandas as pd\n",
        "\n",
        "# Read the JSON files into DataFrames\n",
        "schedule = pd.read_json(\"/content/schedules.json\")\n",
        "train = pd.read_json(\"/content/trains.json\")\n",
        "station = pd.read_json(\"/content/stations.json\")\n"
      ],
      "metadata": {
        "id": "XAsS33T8I2wS"
      },
      "execution_count": null,
      "outputs": []
    },
    {
      "cell_type": "code",
      "source": [
        "df = pd.concat([schedule, train, station], axis=0)"
      ],
      "metadata": {
        "id": "FaRxcxOsI2Mq"
      },
      "execution_count": null,
      "outputs": []
    },
    {
      "cell_type": "code",
      "source": [
        "# Extract station properties from 'features' column in stn DataFrame\n",
        "station['state'] = station['features'].apply(lambda x: x['properties']['state'] if x and 'properties' in x else None)\n",
        "station['code'] = station['features'].apply(lambda x: x['properties']['code'] if x and 'properties' in x else None)\n",
        "station['name'] = station['features'].apply(lambda x: x['properties']['name'] if x and 'properties' in x else None)\n",
        "station['zone'] = station['features'].apply(lambda x: x['properties']['zone'] if x and 'properties' in x else None)\n",
        "station['address'] = station['features'].apply(lambda x: x['properties']['address'] if x and 'properties' in x else None)"
      ],
      "metadata": {
        "id": "8ZTo6xjrLXmu"
      },
      "execution_count": null,
      "outputs": []
    },
    {
      "cell_type": "code",
      "source": [
        "schedule = pd.merge(schedule, station[['code', 'name', 'zone', 'address']], left_on='station_code', right_on='code', how='left')"
      ],
      "metadata": {
        "id": "7_N0u-oXLXYS"
      },
      "execution_count": null,
      "outputs": []
    },
    {
      "cell_type": "code",
      "source": [
        "# Extract train properties from 'features' column in train DataFrame\n",
        "train['arrival_time'] = train['features'].apply(lambda x: x['properties']['arrival'] if x and 'properties' in x else None)\n",
        "train['departure_time'] = train['features'].apply(lambda x: x['properties']['departure'] if x and 'properties' in x else None)\n",
        "train['train_name'] = train['features'].apply(lambda x: x['properties']['name'] if x and 'properties' in x else None)\n",
        "train['zone'] = train['features'].apply(lambda x: x['properties']['zone'] if x and 'properties' in x else None)\n",
        "train['duration_h'] = train['features'].apply(lambda x: x['properties']['duration_h'] if x and 'properties' in x else None)\n",
        "train['distance'] = train['features'].apply(lambda x: x['properties']['distance'] if x and 'properties' in x else None)\n",
        "train['from_station_code'] = train['features'].apply(lambda x: x['properties']['from_station_code'] if x and 'properties' in x else None)\n",
        "train['to_station_code'] = train['features'].apply(lambda x: x['properties']['to_station_code'] if x and 'properties' in x else None)"
      ],
      "metadata": {
        "id": "RXFl9V7NLpya"
      },
      "execution_count": null,
      "outputs": []
    },
    {
      "cell_type": "code",
      "source": [
        "# merge 2 df\n",
        "schedule = pd.merge(schedule, train[['train_name', 'arrival_time', 'departure_time', 'zone', 'duration_h', 'distance', 'from_station_code', 'to_station_code']], left_on='train_name', right_on='train_name', how='left', suffixes=('_sch', '_train'))"
      ],
      "metadata": {
        "id": "TUunHQR8L_mD"
      },
      "execution_count": null,
      "outputs": []
    },
    {
      "cell_type": "code",
      "source": [
        "df = schedule\n"
      ],
      "metadata": {
        "id": "gOAQVfQQMI7H"
      },
      "execution_count": null,
      "outputs": []
    },
    {
      "cell_type": "code",
      "source": [
        "df.shape"
      ],
      "metadata": {
        "colab": {
          "base_uri": "https://localhost:8080/"
        },
        "id": "wAeQ_2sUM436",
        "outputId": "473e4a3b-be35-441a-b29a-d47f83e9f103"
      },
      "execution_count": null,
      "outputs": [
        {
          "output_type": "execute_result",
          "data": {
            "text/plain": [
              "(718566, 19)"
            ]
          },
          "metadata": {},
          "execution_count": 31
        }
      ]
    },
    {
      "cell_type": "code",
      "source": [
        "df.head(2)\n"
      ],
      "metadata": {
        "colab": {
          "base_uri": "https://localhost:8080/",
          "height": 201
        },
        "id": "42OvsBI1M4u0",
        "outputId": "88fa062b-2d53-470f-c72c-1e9fbf88c054"
      },
      "execution_count": null,
      "outputs": [
        {
          "output_type": "execute_result",
          "data": {
            "text/plain": [
              "  arrival  day                  train_name         station_name station_code  \\\n",
              "0    None  1.0  Falaknuma Lingampalli MMTS  KACHEGUDA FALAKNUMA           FM   \n",
              "1    None  1.0  Falaknuma Lingampalli MMTS  KACHEGUDA FALAKNUMA           FM   \n",
              "\n",
              "       id train_number departure code                 name zone_sch address  \\\n",
              "0  302214        47154  07:55:00   FM  KACHEGUDA FALAKNUMA     None    None   \n",
              "1  302214        47154  07:55:00   FM  KACHEGUDA FALAKNUMA     None    None   \n",
              "\n",
              "  arrival_time departure_time zone_train  duration_h  distance  \\\n",
              "0     06:10:00       05:00:00        SCR         1.0      37.0   \n",
              "1     06:55:00       05:40:00        SCR         1.0      37.0   \n",
              "\n",
              "  from_station_code to_station_code  \n",
              "0                FM             LPI  \n",
              "1                FM             LPI  "
            ],
            "text/html": [
              "\n",
              "  <div id=\"df-985f3b7c-9b2e-45b7-b4fe-89f5c030f9cf\" class=\"colab-df-container\">\n",
              "    <div>\n",
              "<style scoped>\n",
              "    .dataframe tbody tr th:only-of-type {\n",
              "        vertical-align: middle;\n",
              "    }\n",
              "\n",
              "    .dataframe tbody tr th {\n",
              "        vertical-align: top;\n",
              "    }\n",
              "\n",
              "    .dataframe thead th {\n",
              "        text-align: right;\n",
              "    }\n",
              "</style>\n",
              "<table border=\"1\" class=\"dataframe\">\n",
              "  <thead>\n",
              "    <tr style=\"text-align: right;\">\n",
              "      <th></th>\n",
              "      <th>arrival</th>\n",
              "      <th>day</th>\n",
              "      <th>train_name</th>\n",
              "      <th>station_name</th>\n",
              "      <th>station_code</th>\n",
              "      <th>id</th>\n",
              "      <th>train_number</th>\n",
              "      <th>departure</th>\n",
              "      <th>code</th>\n",
              "      <th>name</th>\n",
              "      <th>zone_sch</th>\n",
              "      <th>address</th>\n",
              "      <th>arrival_time</th>\n",
              "      <th>departure_time</th>\n",
              "      <th>zone_train</th>\n",
              "      <th>duration_h</th>\n",
              "      <th>distance</th>\n",
              "      <th>from_station_code</th>\n",
              "      <th>to_station_code</th>\n",
              "    </tr>\n",
              "  </thead>\n",
              "  <tbody>\n",
              "    <tr>\n",
              "      <th>0</th>\n",
              "      <td>None</td>\n",
              "      <td>1.0</td>\n",
              "      <td>Falaknuma Lingampalli MMTS</td>\n",
              "      <td>KACHEGUDA FALAKNUMA</td>\n",
              "      <td>FM</td>\n",
              "      <td>302214</td>\n",
              "      <td>47154</td>\n",
              "      <td>07:55:00</td>\n",
              "      <td>FM</td>\n",
              "      <td>KACHEGUDA FALAKNUMA</td>\n",
              "      <td>None</td>\n",
              "      <td>None</td>\n",
              "      <td>06:10:00</td>\n",
              "      <td>05:00:00</td>\n",
              "      <td>SCR</td>\n",
              "      <td>1.0</td>\n",
              "      <td>37.0</td>\n",
              "      <td>FM</td>\n",
              "      <td>LPI</td>\n",
              "    </tr>\n",
              "    <tr>\n",
              "      <th>1</th>\n",
              "      <td>None</td>\n",
              "      <td>1.0</td>\n",
              "      <td>Falaknuma Lingampalli MMTS</td>\n",
              "      <td>KACHEGUDA FALAKNUMA</td>\n",
              "      <td>FM</td>\n",
              "      <td>302214</td>\n",
              "      <td>47154</td>\n",
              "      <td>07:55:00</td>\n",
              "      <td>FM</td>\n",
              "      <td>KACHEGUDA FALAKNUMA</td>\n",
              "      <td>None</td>\n",
              "      <td>None</td>\n",
              "      <td>06:55:00</td>\n",
              "      <td>05:40:00</td>\n",
              "      <td>SCR</td>\n",
              "      <td>1.0</td>\n",
              "      <td>37.0</td>\n",
              "      <td>FM</td>\n",
              "      <td>LPI</td>\n",
              "    </tr>\n",
              "  </tbody>\n",
              "</table>\n",
              "</div>\n",
              "    <div class=\"colab-df-buttons\">\n",
              "\n",
              "  <div class=\"colab-df-container\">\n",
              "    <button class=\"colab-df-convert\" onclick=\"convertToInteractive('df-985f3b7c-9b2e-45b7-b4fe-89f5c030f9cf')\"\n",
              "            title=\"Convert this dataframe to an interactive table.\"\n",
              "            style=\"display:none;\">\n",
              "\n",
              "  <svg xmlns=\"http://www.w3.org/2000/svg\" height=\"24px\" viewBox=\"0 -960 960 960\">\n",
              "    <path d=\"M120-120v-720h720v720H120Zm60-500h600v-160H180v160Zm220 220h160v-160H400v160Zm0 220h160v-160H400v160ZM180-400h160v-160H180v160Zm440 0h160v-160H620v160ZM180-180h160v-160H180v160Zm440 0h160v-160H620v160Z\"/>\n",
              "  </svg>\n",
              "    </button>\n",
              "\n",
              "  <style>\n",
              "    .colab-df-container {\n",
              "      display:flex;\n",
              "      gap: 12px;\n",
              "    }\n",
              "\n",
              "    .colab-df-convert {\n",
              "      background-color: #E8F0FE;\n",
              "      border: none;\n",
              "      border-radius: 50%;\n",
              "      cursor: pointer;\n",
              "      display: none;\n",
              "      fill: #1967D2;\n",
              "      height: 32px;\n",
              "      padding: 0 0 0 0;\n",
              "      width: 32px;\n",
              "    }\n",
              "\n",
              "    .colab-df-convert:hover {\n",
              "      background-color: #E2EBFA;\n",
              "      box-shadow: 0px 1px 2px rgba(60, 64, 67, 0.3), 0px 1px 3px 1px rgba(60, 64, 67, 0.15);\n",
              "      fill: #174EA6;\n",
              "    }\n",
              "\n",
              "    .colab-df-buttons div {\n",
              "      margin-bottom: 4px;\n",
              "    }\n",
              "\n",
              "    [theme=dark] .colab-df-convert {\n",
              "      background-color: #3B4455;\n",
              "      fill: #D2E3FC;\n",
              "    }\n",
              "\n",
              "    [theme=dark] .colab-df-convert:hover {\n",
              "      background-color: #434B5C;\n",
              "      box-shadow: 0px 1px 3px 1px rgba(0, 0, 0, 0.15);\n",
              "      filter: drop-shadow(0px 1px 2px rgba(0, 0, 0, 0.3));\n",
              "      fill: #FFFFFF;\n",
              "    }\n",
              "  </style>\n",
              "\n",
              "    <script>\n",
              "      const buttonEl =\n",
              "        document.querySelector('#df-985f3b7c-9b2e-45b7-b4fe-89f5c030f9cf button.colab-df-convert');\n",
              "      buttonEl.style.display =\n",
              "        google.colab.kernel.accessAllowed ? 'block' : 'none';\n",
              "\n",
              "      async function convertToInteractive(key) {\n",
              "        const element = document.querySelector('#df-985f3b7c-9b2e-45b7-b4fe-89f5c030f9cf');\n",
              "        const dataTable =\n",
              "          await google.colab.kernel.invokeFunction('convertToInteractive',\n",
              "                                                    [key], {});\n",
              "        if (!dataTable) return;\n",
              "\n",
              "        const docLinkHtml = 'Like what you see? Visit the ' +\n",
              "          '<a target=\"_blank\" href=https://colab.research.google.com/notebooks/data_table.ipynb>data table notebook</a>'\n",
              "          + ' to learn more about interactive tables.';\n",
              "        element.innerHTML = '';\n",
              "        dataTable['output_type'] = 'display_data';\n",
              "        await google.colab.output.renderOutput(dataTable, element);\n",
              "        const docLink = document.createElement('div');\n",
              "        docLink.innerHTML = docLinkHtml;\n",
              "        element.appendChild(docLink);\n",
              "      }\n",
              "    </script>\n",
              "  </div>\n",
              "\n",
              "\n",
              "<div id=\"df-0574457a-6b27-4fc3-8e35-c2b62e1c6377\">\n",
              "  <button class=\"colab-df-quickchart\" onclick=\"quickchart('df-0574457a-6b27-4fc3-8e35-c2b62e1c6377')\"\n",
              "            title=\"Suggest charts\"\n",
              "            style=\"display:none;\">\n",
              "\n",
              "<svg xmlns=\"http://www.w3.org/2000/svg\" height=\"24px\"viewBox=\"0 0 24 24\"\n",
              "     width=\"24px\">\n",
              "    <g>\n",
              "        <path d=\"M19 3H5c-1.1 0-2 .9-2 2v14c0 1.1.9 2 2 2h14c1.1 0 2-.9 2-2V5c0-1.1-.9-2-2-2zM9 17H7v-7h2v7zm4 0h-2V7h2v10zm4 0h-2v-4h2v4z\"/>\n",
              "    </g>\n",
              "</svg>\n",
              "  </button>\n",
              "\n",
              "<style>\n",
              "  .colab-df-quickchart {\n",
              "      --bg-color: #E8F0FE;\n",
              "      --fill-color: #1967D2;\n",
              "      --hover-bg-color: #E2EBFA;\n",
              "      --hover-fill-color: #174EA6;\n",
              "      --disabled-fill-color: #AAA;\n",
              "      --disabled-bg-color: #DDD;\n",
              "  }\n",
              "\n",
              "  [theme=dark] .colab-df-quickchart {\n",
              "      --bg-color: #3B4455;\n",
              "      --fill-color: #D2E3FC;\n",
              "      --hover-bg-color: #434B5C;\n",
              "      --hover-fill-color: #FFFFFF;\n",
              "      --disabled-bg-color: #3B4455;\n",
              "      --disabled-fill-color: #666;\n",
              "  }\n",
              "\n",
              "  .colab-df-quickchart {\n",
              "    background-color: var(--bg-color);\n",
              "    border: none;\n",
              "    border-radius: 50%;\n",
              "    cursor: pointer;\n",
              "    display: none;\n",
              "    fill: var(--fill-color);\n",
              "    height: 32px;\n",
              "    padding: 0;\n",
              "    width: 32px;\n",
              "  }\n",
              "\n",
              "  .colab-df-quickchart:hover {\n",
              "    background-color: var(--hover-bg-color);\n",
              "    box-shadow: 0 1px 2px rgba(60, 64, 67, 0.3), 0 1px 3px 1px rgba(60, 64, 67, 0.15);\n",
              "    fill: var(--button-hover-fill-color);\n",
              "  }\n",
              "\n",
              "  .colab-df-quickchart-complete:disabled,\n",
              "  .colab-df-quickchart-complete:disabled:hover {\n",
              "    background-color: var(--disabled-bg-color);\n",
              "    fill: var(--disabled-fill-color);\n",
              "    box-shadow: none;\n",
              "  }\n",
              "\n",
              "  .colab-df-spinner {\n",
              "    border: 2px solid var(--fill-color);\n",
              "    border-color: transparent;\n",
              "    border-bottom-color: var(--fill-color);\n",
              "    animation:\n",
              "      spin 1s steps(1) infinite;\n",
              "  }\n",
              "\n",
              "  @keyframes spin {\n",
              "    0% {\n",
              "      border-color: transparent;\n",
              "      border-bottom-color: var(--fill-color);\n",
              "      border-left-color: var(--fill-color);\n",
              "    }\n",
              "    20% {\n",
              "      border-color: transparent;\n",
              "      border-left-color: var(--fill-color);\n",
              "      border-top-color: var(--fill-color);\n",
              "    }\n",
              "    30% {\n",
              "      border-color: transparent;\n",
              "      border-left-color: var(--fill-color);\n",
              "      border-top-color: var(--fill-color);\n",
              "      border-right-color: var(--fill-color);\n",
              "    }\n",
              "    40% {\n",
              "      border-color: transparent;\n",
              "      border-right-color: var(--fill-color);\n",
              "      border-top-color: var(--fill-color);\n",
              "    }\n",
              "    60% {\n",
              "      border-color: transparent;\n",
              "      border-right-color: var(--fill-color);\n",
              "    }\n",
              "    80% {\n",
              "      border-color: transparent;\n",
              "      border-right-color: var(--fill-color);\n",
              "      border-bottom-color: var(--fill-color);\n",
              "    }\n",
              "    90% {\n",
              "      border-color: transparent;\n",
              "      border-bottom-color: var(--fill-color);\n",
              "    }\n",
              "  }\n",
              "</style>\n",
              "\n",
              "  <script>\n",
              "    async function quickchart(key) {\n",
              "      const quickchartButtonEl =\n",
              "        document.querySelector('#' + key + ' button');\n",
              "      quickchartButtonEl.disabled = true;  // To prevent multiple clicks.\n",
              "      quickchartButtonEl.classList.add('colab-df-spinner');\n",
              "      try {\n",
              "        const charts = await google.colab.kernel.invokeFunction(\n",
              "            'suggestCharts', [key], {});\n",
              "      } catch (error) {\n",
              "        console.error('Error during call to suggestCharts:', error);\n",
              "      }\n",
              "      quickchartButtonEl.classList.remove('colab-df-spinner');\n",
              "      quickchartButtonEl.classList.add('colab-df-quickchart-complete');\n",
              "    }\n",
              "    (() => {\n",
              "      let quickchartButtonEl =\n",
              "        document.querySelector('#df-0574457a-6b27-4fc3-8e35-c2b62e1c6377 button');\n",
              "      quickchartButtonEl.style.display =\n",
              "        google.colab.kernel.accessAllowed ? 'block' : 'none';\n",
              "    })();\n",
              "  </script>\n",
              "</div>\n",
              "\n",
              "    </div>\n",
              "  </div>\n"
            ],
            "application/vnd.google.colaboratory.intrinsic+json": {
              "type": "dataframe",
              "variable_name": "df"
            }
          },
          "metadata": {},
          "execution_count": 34
        }
      ]
    },
    {
      "cell_type": "code",
      "source": [
        "schedule.isna().sum()"
      ],
      "metadata": {
        "colab": {
          "base_uri": "https://localhost:8080/"
        },
        "id": "lixBurGBM4ro",
        "outputId": "5e461085-5696-409c-b0a8-f0207f4b7c0e"
      },
      "execution_count": null,
      "outputs": [
        {
          "output_type": "execute_result",
          "data": {
            "text/plain": [
              "arrival                   0\n",
              "day                   24054\n",
              "train_name                0\n",
              "station_name              0\n",
              "station_code              0\n",
              "id                        0\n",
              "train_number              0\n",
              "departure                 0\n",
              "code                      0\n",
              "name                      0\n",
              "zone_sch             483165\n",
              "address              483165\n",
              "arrival_time              0\n",
              "departure_time            0\n",
              "zone_train                0\n",
              "duration_h             2251\n",
              "distance               2251\n",
              "from_station_code         0\n",
              "to_station_code           0\n",
              "dtype: int64"
            ]
          },
          "metadata": {},
          "execution_count": 35
        }
      ]
    },
    {
      "cell_type": "code",
      "source": [
        "schedule.info()"
      ],
      "metadata": {
        "colab": {
          "base_uri": "https://localhost:8080/"
        },
        "id": "miN0CT0qM4pN",
        "outputId": "c7fff33d-aaf4-4e4a-9803-2ed7ef82fd80"
      },
      "execution_count": null,
      "outputs": [
        {
          "output_type": "stream",
          "name": "stdout",
          "text": [
            "<class 'pandas.core.frame.DataFrame'>\n",
            "Int64Index: 718566 entries, 0 to 718565\n",
            "Data columns (total 19 columns):\n",
            " #   Column             Non-Null Count   Dtype  \n",
            "---  ------             --------------   -----  \n",
            " 0   arrival            718566 non-null  object \n",
            " 1   day                694512 non-null  float64\n",
            " 2   train_name         718566 non-null  object \n",
            " 3   station_name       718566 non-null  object \n",
            " 4   station_code       718566 non-null  object \n",
            " 5   id                 718566 non-null  int64  \n",
            " 6   train_number       718566 non-null  object \n",
            " 7   departure          718566 non-null  object \n",
            " 8   code               718566 non-null  object \n",
            " 9   name               718566 non-null  object \n",
            " 10  zone_sch           235401 non-null  object \n",
            " 11  address            235401 non-null  object \n",
            " 12  arrival_time       718566 non-null  object \n",
            " 13  departure_time     718566 non-null  object \n",
            " 14  zone_train         718566 non-null  object \n",
            " 15  duration_h         716315 non-null  float64\n",
            " 16  distance           716315 non-null  float64\n",
            " 17  from_station_code  718566 non-null  object \n",
            " 18  to_station_code    718566 non-null  object \n",
            "dtypes: float64(3), int64(1), object(15)\n",
            "memory usage: 109.6+ MB\n"
          ]
        }
      ]
    },
    {
      "cell_type": "code",
      "source": [
        "# Fill missing values in 'zone_sch' and 'zone_train' with 'Unknown'\n",
        "schedule['zone_sch'] = schedule['zone_sch'].fillna('Unknown')\n",
        "schedule['zone_train'] = schedule['zone_train'].fillna('Unknown')"
      ],
      "metadata": {
        "id": "kGGWKF8lM4m4"
      },
      "execution_count": null,
      "outputs": []
    },
    {
      "cell_type": "code",
      "source": [
        "schedule['address'] = schedule['address'].fillna('Unknown')"
      ],
      "metadata": {
        "id": "8qH2AKxkM4ko"
      },
      "execution_count": null,
      "outputs": []
    },
    {
      "cell_type": "code",
      "source": [
        "mean_duration_h = schedule['duration_h'].mean()\n",
        "mean_distance = schedule['distance'].mean()\n",
        "\n",
        "schedule['duration_h'] = schedule['duration_h'].fillna(mean_duration_h)\n",
        "schedule['distance'] = schedule['distance'].fillna(mean_distance)\n"
      ],
      "metadata": {
        "id": "_2_wpO9aM4iR"
      },
      "execution_count": null,
      "outputs": []
    },
    {
      "cell_type": "code",
      "source": [
        "import matplotlib.pyplot as plt\n",
        "import seaborn as sns"
      ],
      "metadata": {
        "id": "6fUeM2f3M4gD"
      },
      "execution_count": null,
      "outputs": []
    },
    {
      "cell_type": "code",
      "source": [
        "# Explore distribution of train schedules based on day of the week\n",
        "day_counts = schedule['day'].value_counts()\n",
        "plt.figure(figsize=(8, 6))\n",
        "sns.barplot(x=day_counts.index, y=day_counts.values)\n",
        "plt.title('Distribution of Train Schedules by Day of the Week')\n",
        "plt.xlabel('Day of the Week')\n",
        "plt.ylabel('Count')\n",
        "plt.xticks(rotation=45)\n",
        "plt.tight_layout()\n",
        "plt.show()"
      ],
      "metadata": {
        "colab": {
          "base_uri": "https://localhost:8080/",
          "height": 607
        },
        "id": "G89uWuF0OmPG",
        "outputId": "ad345376-e320-4686-e00f-c4b18e01672d"
      },
      "execution_count": null,
      "outputs": [
        {
          "output_type": "display_data",
          "data": {
            "text/plain": [
              "<Figure size 800x600 with 1 Axes>"
            ],
            "image/png": "[encoded data removed]"
          },
          "metadata": {}
        }
      ]
    },
    {
      "cell_type": "code",
      "source": [
        "# Visualize trends and patterns in train schedules using line plot\n",
        "train_counts = schedule['train_name'].value_counts().head(10)  # Top 10 most frequent train names\n",
        "plt.figure(figsize=(10, 6))\n",
        "sns.lineplot(x=train_counts.index, y=train_counts.values, marker='o')\n",
        "plt.title('Top 10 Most Frequent Train Names')\n",
        "plt.xlabel('Train Name')\n",
        "plt.ylabel('Count')\n",
        "plt.xticks(rotation=45)\n",
        "plt.tight_layout()\n",
        "plt.show()"
      ],
      "metadata": {
        "colab": {
          "base_uri": "https://localhost:8080/",
          "height": 607
        },
        "id": "v5P_rj1WOmLu",
        "outputId": "99e801f7-e4d4-4c3e-c71f-f80fe126e6e2"
      },
      "execution_count": null,
      "outputs": [
        {
          "output_type": "display_data",
          "data": {
            "text/plain": [
              "<Figure size 1000x600 with 1 Axes>"
            ],
            "image/png": "[encoded data removed]"
          },
          "metadata": {}
        }
      ]
    },
    {
      "cell_type": "code",
      "source": [
        "# Explore distribution of train schedules based on station name\n",
        "station_counts = schedule['station_name'].value_counts().head(10)  # Top 10 busiest stations\n",
        "plt.figure(figsize=(10, 6))\n",
        "sns.barplot(x=station_counts.values, y=station_counts.index, orient='h')\n",
        "plt.title('Top 10 Busiest Stations')\n",
        "plt.xlabel('Count')\n",
        "plt.ylabel('Station Name')\n",
        "plt.tight_layout()\n",
        "plt.show()"
      ],
      "metadata": {
        "colab": {
          "base_uri": "https://localhost:8080/",
          "height": 607
        },
        "id": "S6v-0JKkOmJW",
        "outputId": "e122b4c8-49db-405d-8bd0-717850e480ef"
      },
      "execution_count": null,
      "outputs": [
        {
          "output_type": "display_data",
          "data": {
            "text/plain": [
              "<Figure size 1000x600 with 1 Axes>"
            ],
            "image/png": "[encoded data removed]"
          },
          "metadata": {}
        }
      ]
    },
    {
      "cell_type": "code",
      "source": [
        "# Convert 'arrival_time' and 'departure_time' columns to datetime format with explicit format specification\n",
        "schedule['arrival_time'] = pd.to_datetime(schedule['arrival_time'], format='%H:%M:%S', errors='coerce')\n",
        "schedule['departure_time'] = pd.to_datetime(schedule['departure_time'], format='%H:%M:%S', errors='coerce')\n",
        "\n",
        "# Drop rows where conversion to datetime failed (e.g., if there are invalid time strings)\n",
        "schedule.dropna(subset=['arrival_time', 'departure_time'], inplace=True)\n",
        "\n",
        "# Create 'time_of_day' feature based on arrival time\n",
        "def get_time_of_day(hour):\n",
        "    if 5 <= hour < 12:\n",
        "        return 'Morning'\n",
        "    elif 12 <= hour < 17:\n",
        "        return 'Afternoon'\n",
        "    elif 17 <= hour < 21:\n",
        "        return 'Evening'\n",
        "    else:\n",
        "        return 'Night'\n",
        "\n",
        "schedule['time_of_day'] = schedule['arrival_time'].dt.hour.apply(get_time_of_day)\n",
        "\n",
        "# Create 'is_peak_hour' feature based on arrival time\n",
        "def is_peak_hour(hour):\n",
        "    return 7 <= hour <= 9 or 17 <= hour <= 19  # Assuming peak hours are 7-9 AM and 5-7 PM\n",
        "\n",
        "schedule['is_peak_hour'] = schedule['arrival_time'].dt.hour.apply(is_peak_hour).astype(int)\n",
        "\n",
        "# Create 'travel_duration' feature\n",
        "schedule['travel_duration'] = (schedule['arrival_time'] - schedule['departure_time']).dt.total_seconds() / 3600  # Convert to hours\n"
      ],
      "metadata": {
        "id": "cSaN26F9OmG0"
      },
      "execution_count": null,
      "outputs": []
    },
    {
      "cell_type": "code",
      "source": [
        "schedule.head(4)"
      ],
      "metadata": {
        "colab": {
          "base_uri": "https://localhost:8080/",
          "height": 363
        },
        "id": "dkn2ytGjOmEO",
        "outputId": "fa1feae0-8a8c-42a4-ac3b-9b250431606e"
      },
      "execution_count": null,
      "outputs": [
        {
          "output_type": "execute_result",
          "data": {
            "text/plain": [
              "  arrival  day                  train_name         station_name station_code  \\\n",
              "0    None  1.0  Falaknuma Lingampalli MMTS  KACHEGUDA FALAKNUMA           FM   \n",
              "1    None  1.0  Falaknuma Lingampalli MMTS  KACHEGUDA FALAKNUMA           FM   \n",
              "2    None  1.0  Falaknuma Lingampalli MMTS  KACHEGUDA FALAKNUMA           FM   \n",
              "3    None  1.0  Falaknuma Lingampalli MMTS  KACHEGUDA FALAKNUMA           FM   \n",
              "\n",
              "       id train_number departure code                 name  ...  \\\n",
              "0  302214        47154  07:55:00   FM  KACHEGUDA FALAKNUMA  ...   \n",
              "1  302214        47154  07:55:00   FM  KACHEGUDA FALAKNUMA  ...   \n",
              "2  302214        47154  07:55:00   FM  KACHEGUDA FALAKNUMA  ...   \n",
              "3  302214        47154  07:55:00   FM  KACHEGUDA FALAKNUMA  ...   \n",
              "\n",
              "         arrival_time      departure_time zone_train duration_h distance  \\\n",
              "0 1900-01-01 06:10:00 1900-01-01 05:00:00        SCR        1.0     37.0   \n",
              "1 1900-01-01 06:55:00 1900-01-01 05:40:00        SCR        1.0     37.0   \n",
              "2 1900-01-01 07:40:00 1900-01-01 06:25:00        SCR        1.0     37.0   \n",
              "3 1900-01-01 08:20:00 1900-01-01 07:10:00        SCR        1.0     37.0   \n",
              "\n",
              "   from_station_code  to_station_code time_of_day is_peak_hour travel_duration  \n",
              "0                 FM              LPI     Morning            0        1.166667  \n",
              "1                 FM              LPI     Morning            0        1.250000  \n",
              "2                 FM              LPI     Morning            1        1.250000  \n",
              "3                 FM              LPI     Morning            1        1.166667  \n",
              "\n",
              "[4 rows x 22 columns]"
            ],
            "text/html": [
              "\n",
              "  <div id=\"df-16472e88-ccd0-415a-b9e1-0f5e7272fa41\" class=\"colab-df-container\">\n",
              "    <div>\n",
              "<style scoped>\n",
              "    .dataframe tbody tr th:only-of-type {\n",
              "        vertical-align: middle;\n",
              "    }\n",
              "\n",
              "    .dataframe tbody tr th {\n",
              "        vertical-align: top;\n",
              "    }\n",
              "\n",
              "    .dataframe thead th {\n",
              "        text-align: right;\n",
              "    }\n",
              "</style>\n",
              "<table border=\"1\" class=\"dataframe\">\n",
              "  <thead>\n",
              "    <tr style=\"text-align: right;\">\n",
              "      <th></th>\n",
              "      <th>arrival</th>\n",
              "      <th>day</th>\n",
              "      <th>train_name</th>\n",
              "      <th>station_name</th>\n",
              "      <th>station_code</th>\n",
              "      <th>id</th>\n",
              "      <th>train_number</th>\n",
              "      <th>departure</th>\n",
              "      <th>code</th>\n",
              "      <th>name</th>\n",
              "      <th>...</th>\n",
              "      <th>arrival_time</th>\n",
              "      <th>departure_time</th>\n",
              "      <th>zone_train</th>\n",
              "      <th>duration_h</th>\n",
              "      <th>distance</th>\n",
              "      <th>from_station_code</th>\n",
              "      <th>to_station_code</th>\n",
              "      <th>time_of_day</th>\n",
              "      <th>is_peak_hour</th>\n",
              "      <th>travel_duration</th>\n",
              "    </tr>\n",
              "  </thead>\n",
              "  <tbody>\n",
              "    <tr>\n",
              "      <th>0</th>\n",
              "      <td>None</td>\n",
              "      <td>1.0</td>\n",
              "      <td>Falaknuma Lingampalli MMTS</td>\n",
              "      <td>KACHEGUDA FALAKNUMA</td>\n",
              "      <td>FM</td>\n",
              "      <td>302214</td>\n",
              "      <td>47154</td>\n",
              "      <td>07:55:00</td>\n",
              "      <td>FM</td>\n",
              "      <td>KACHEGUDA FALAKNUMA</td>\n",
              "      <td>...</td>\n",
              "      <td>1900-01-01 06:10:00</td>\n",
              "      <td>1900-01-01 05:00:00</td>\n",
              "      <td>SCR</td>\n",
              "      <td>1.0</td>\n",
              "      <td>37.0</td>\n",
              "      <td>FM</td>\n",
              "      <td>LPI</td>\n",
              "      <td>Morning</td>\n",
              "      <td>0</td>\n",
              "      <td>1.166667</td>\n",
              "    </tr>\n",
              "    <tr>\n",
              "      <th>1</th>\n",
              "      <td>None</td>\n",
              "      <td>1.0</td>\n",
              "      <td>Falaknuma Lingampalli MMTS</td>\n",
              "      <td>KACHEGUDA FALAKNUMA</td>\n",
              "      <td>FM</td>\n",
              "      <td>302214</td>\n",
              "      <td>47154</td>\n",
              "      <td>07:55:00</td>\n",
              "      <td>FM</td>\n",
              "      <td>KACHEGUDA FALAKNUMA</td>\n",
              "      <td>...</td>\n",
              "      <td>1900-01-01 06:55:00</td>\n",
              "      <td>1900-01-01 05:40:00</td>\n",
              "      <td>SCR</td>\n",
              "      <td>1.0</td>\n",
              "      <td>37.0</td>\n",
              "      <td>FM</td>\n",
              "      <td>LPI</td>\n",
              "      <td>Morning</td>\n",
              "      <td>0</td>\n",
              "      <td>1.250000</td>\n",
              "    </tr>\n",
              "    <tr>\n",
              "      <th>2</th>\n",
              "      <td>None</td>\n",
              "      <td>1.0</td>\n",
              "      <td>Falaknuma Lingampalli MMTS</td>\n",
              "      <td>KACHEGUDA FALAKNUMA</td>\n",
              "      <td>FM</td>\n",
              "      <td>302214</td>\n",
              "      <td>47154</td>\n",
              "      <td>07:55:00</td>\n",
              "      <td>FM</td>\n",
              "      <td>KACHEGUDA FALAKNUMA</td>\n",
              "      <td>...</td>\n",
              "      <td>1900-01-01 07:40:00</td>\n",
              "      <td>1900-01-01 06:25:00</td>\n",
              "      <td>SCR</td>\n",
              "      <td>1.0</td>\n",
              "      <td>37.0</td>\n",
              "      <td>FM</td>\n",
              "      <td>LPI</td>\n",
              "      <td>Morning</td>\n",
              "      <td>1</td>\n",
              "      <td>1.250000</td>\n",
              "    </tr>\n",
              "    <tr>\n",
              "      <th>3</th>\n",
              "      <td>None</td>\n",
              "      <td>1.0</td>\n",
              "      <td>Falaknuma Lingampalli MMTS</td>\n",
              "      <td>KACHEGUDA FALAKNUMA</td>\n",
              "      <td>FM</td>\n",
              "      <td>302214</td>\n",
              "      <td>47154</td>\n",
              "      <td>07:55:00</td>\n",
              "      <td>FM</td>\n",
              "      <td>KACHEGUDA FALAKNUMA</td>\n",
              "      <td>...</td>\n",
              "      <td>1900-01-01 08:20:00</td>\n",
              "      <td>1900-01-01 07:10:00</td>\n",
              "      <td>SCR</td>\n",
              "      <td>1.0</td>\n",
              "      <td>37.0</td>\n",
              "      <td>FM</td>\n",
              "      <td>LPI</td>\n",
              "      <td>Morning</td>\n",
              "      <td>1</td>\n",
              "      <td>1.166667</td>\n",
              "    </tr>\n",
              "  </tbody>\n",
              "</table>\n",
              "<p>4 rows × 22 columns</p>\n",
              "</div>\n",
              "    <div class=\"colab-df-buttons\">\n",
              "\n",
              "  <div class=\"colab-df-container\">\n",
              "    <button class=\"colab-df-convert\" onclick=\"convertToInteractive('df-16472e88-ccd0-415a-b9e1-0f5e7272fa41')\"\n",
              "            title=\"Convert this dataframe to an interactive table.\"\n",
              "            style=\"display:none;\">\n",
              "\n",
              "  <svg xmlns=\"http://www.w3.org/2000/svg\" height=\"24px\" viewBox=\"0 -960 960 960\">\n",
              "    <path d=\"M120-120v-720h720v720H120Zm60-500h600v-160H180v160Zm220 220h160v-160H400v160Zm0 220h160v-160H400v160ZM180-400h160v-160H180v160Zm440 0h160v-160H620v160ZM180-180h160v-160H180v160Zm440 0h160v-160H620v160Z\"/>\n",
              "  </svg>\n",
              "    </button>\n",
              "\n",
              "  <style>\n",
              "    .colab-df-container {\n",
              "      display:flex;\n",
              "      gap: 12px;\n",
              "    }\n",
              "\n",
              "    .colab-df-convert {\n",
              "      background-color: #E8F0FE;\n",
              "      border: none;\n",
              "      border-radius: 50%;\n",
              "      cursor: pointer;\n",
              "      display: none;\n",
              "      fill: #1967D2;\n",
              "      height: 32px;\n",
              "      padding: 0 0 0 0;\n",
              "      width: 32px;\n",
              "    }\n",
              "\n",
              "    .colab-df-convert:hover {\n",
              "      background-color: #E2EBFA;\n",
              "      box-shadow: 0px 1px 2px rgba(60, 64, 67, 0.3), 0px 1px 3px 1px rgba(60, 64, 67, 0.15);\n",
              "      fill: #174EA6;\n",
              "    }\n",
              "\n",
              "    .colab-df-buttons div {\n",
              "      margin-bottom: 4px;\n",
              "    }\n",
              "\n",
              "    [theme=dark] .colab-df-convert {\n",
              "      background-color: #3B4455;\n",
              "      fill: #D2E3FC;\n",
              "    }\n",
              "\n",
              "    [theme=dark] .colab-df-convert:hover {\n",
              "      background-color: #434B5C;\n",
              "      box-shadow: 0px 1px 3px 1px rgba(0, 0, 0, 0.15);\n",
              "      filter: drop-shadow(0px 1px 2px rgba(0, 0, 0, 0.3));\n",
              "      fill: #FFFFFF;\n",
              "    }\n",
              "  </style>\n",
              "\n",
              "    <script>\n",
              "      const buttonEl =\n",
              "        document.querySelector('#df-16472e88-ccd0-415a-b9e1-0f5e7272fa41 button.colab-df-convert');\n",
              "      buttonEl.style.display =\n",
              "        google.colab.kernel.accessAllowed ? 'block' : 'none';\n",
              "\n",
              "      async function convertToInteractive(key) {\n",
              "        const element = document.querySelector('#df-16472e88-ccd0-415a-b9e1-0f5e7272fa41');\n",
              "        const dataTable =\n",
              "          await google.colab.kernel.invokeFunction('convertToInteractive',\n",
              "                                                    [key], {});\n",
              "        if (!dataTable) return;\n",
              "\n",
              "        const docLinkHtml = 'Like what you see? Visit the ' +\n",
              "          '<a target=\"_blank\" href=https://colab.research.google.com/notebooks/data_table.ipynb>data table notebook</a>'\n",
              "          + ' to learn more about interactive tables.';\n",
              "        element.innerHTML = '';\n",
              "        dataTable['output_type'] = 'display_data';\n",
              "        await google.colab.output.renderOutput(dataTable, element);\n",
              "        const docLink = document.createElement('div');\n",
              "        docLink.innerHTML = docLinkHtml;\n",
              "        element.appendChild(docLink);\n",
              "      }\n",
              "    </script>\n",
              "  </div>\n",
              "\n",
              "\n",
              "<div id=\"df-8f06faca-1cb7-40f0-88d7-a6485543914f\">\n",
              "  <button class=\"colab-df-quickchart\" onclick=\"quickchart('df-8f06faca-1cb7-40f0-88d7-a6485543914f')\"\n",
              "            title=\"Suggest charts\"\n",
              "            style=\"display:none;\">\n",
              "\n",
              "<svg xmlns=\"http://www.w3.org/2000/svg\" height=\"24px\"viewBox=\"0 0 24 24\"\n",
              "     width=\"24px\">\n",
              "    <g>\n",
              "        <path d=\"M19 3H5c-1.1 0-2 .9-2 2v14c0 1.1.9 2 2 2h14c1.1 0 2-.9 2-2V5c0-1.1-.9-2-2-2zM9 17H7v-7h2v7zm4 0h-2V7h2v10zm4 0h-2v-4h2v4z\"/>\n",
              "    </g>\n",
              "</svg>\n",
              "  </button>\n",
              "\n",
              "<style>\n",
              "  .colab-df-quickchart {\n",
              "      --bg-color: #E8F0FE;\n",
              "      --fill-color: #1967D2;\n",
              "      --hover-bg-color: #E2EBFA;\n",
              "      --hover-fill-color: #174EA6;\n",
              "      --disabled-fill-color: #AAA;\n",
              "      --disabled-bg-color: #DDD;\n",
              "  }\n",
              "\n",
              "  [theme=dark] .colab-df-quickchart {\n",
              "      --bg-color: #3B4455;\n",
              "      --fill-color: #D2E3FC;\n",
              "      --hover-bg-color: #434B5C;\n",
              "      --hover-fill-color: #FFFFFF;\n",
              "      --disabled-bg-color: #3B4455;\n",
              "      --disabled-fill-color: #666;\n",
              "  }\n",
              "\n",
              "  .colab-df-quickchart {\n",
              "    background-color: var(--bg-color);\n",
              "    border: none;\n",
              "    border-radius: 50%;\n",
              "    cursor: pointer;\n",
              "    display: none;\n",
              "    fill: var(--fill-color);\n",
              "    height: 32px;\n",
              "    padding: 0;\n",
              "    width: 32px;\n",
              "  }\n",
              "\n",
              "  .colab-df-quickchart:hover {\n",
              "    background-color: var(--hover-bg-color);\n",
              "    box-shadow: 0 1px 2px rgba(60, 64, 67, 0.3), 0 1px 3px 1px rgba(60, 64, 67, 0.15);\n",
              "    fill: var(--button-hover-fill-color);\n",
              "  }\n",
              "\n",
              "  .colab-df-quickchart-complete:disabled,\n",
              "  .colab-df-quickchart-complete:disabled:hover {\n",
              "    background-color: var(--disabled-bg-color);\n",
              "    fill: var(--disabled-fill-color);\n",
              "    box-shadow: none;\n",
              "  }\n",
              "\n",
              "  .colab-df-spinner {\n",
              "    border: 2px solid var(--fill-color);\n",
              "    border-color: transparent;\n",
              "    border-bottom-color: var(--fill-color);\n",
              "    animation:\n",
              "      spin 1s steps(1) infinite;\n",
              "  }\n",
              "\n",
              "  @keyframes spin {\n",
              "    0% {\n",
              "      border-color: transparent;\n",
              "      border-bottom-color: var(--fill-color);\n",
              "      border-left-color: var(--fill-color);\n",
              "    }\n",
              "    20% {\n",
              "      border-color: transparent;\n",
              "      border-left-color: var(--fill-color);\n",
              "      border-top-color: var(--fill-color);\n",
              "    }\n",
              "    30% {\n",
              "      border-color: transparent;\n",
              "      border-left-color: var(--fill-color);\n",
              "      border-top-color: var(--fill-color);\n",
              "      border-right-color: var(--fill-color);\n",
              "    }\n",
              "    40% {\n",
              "      border-color: transparent;\n",
              "      border-right-color: var(--fill-color);\n",
              "      border-top-color: var(--fill-color);\n",
              "    }\n",
              "    60% {\n",
              "      border-color: transparent;\n",
              "      border-right-color: var(--fill-color);\n",
              "    }\n",
              "    80% {\n",
              "      border-color: transparent;\n",
              "      border-right-color: var(--fill-color);\n",
              "      border-bottom-color: var(--fill-color);\n",
              "    }\n",
              "    90% {\n",
              "      border-color: transparent;\n",
              "      border-bottom-color: var(--fill-color);\n",
              "    }\n",
              "  }\n",
              "</style>\n",
              "\n",
              "  <script>\n",
              "    async function quickchart(key) {\n",
              "      const quickchartButtonEl =\n",
              "        document.querySelector('#' + key + ' button');\n",
              "      quickchartButtonEl.disabled = true;  // To prevent multiple clicks.\n",
              "      quickchartButtonEl.classList.add('colab-df-spinner');\n",
              "      try {\n",
              "        const charts = await google.colab.kernel.invokeFunction(\n",
              "            'suggestCharts', [key], {});\n",
              "      } catch (error) {\n",
              "        console.error('Error during call to suggestCharts:', error);\n",
              "      }\n",
              "      quickchartButtonEl.classList.remove('colab-df-spinner');\n",
              "      quickchartButtonEl.classList.add('colab-df-quickchart-complete');\n",
              "    }\n",
              "    (() => {\n",
              "      let quickchartButtonEl =\n",
              "        document.querySelector('#df-8f06faca-1cb7-40f0-88d7-a6485543914f button');\n",
              "      quickchartButtonEl.style.display =\n",
              "        google.colab.kernel.accessAllowed ? 'block' : 'none';\n",
              "    })();\n",
              "  </script>\n",
              "</div>\n",
              "\n",
              "    </div>\n",
              "  </div>\n"
            ],
            "application/vnd.google.colaboratory.intrinsic+json": {
              "type": "dataframe",
              "variable_name": "schedule"
            }
          },
          "metadata": {},
          "execution_count": 45
        }
      ]
    },
    {
      "cell_type": "code",
      "source": [
        "# Extract hour and minute components from 'arrival_time'\n",
        "schedule['arrival_hour'] = schedule['arrival_time'].dt.hour\n",
        "schedule['arrival_minute'] = schedule['arrival_time'].dt.minute\n",
        "\n",
        "# Extract hour and minute components from 'departure_time'\n",
        "schedule['departure_hour'] = schedule['departure_time'].dt.hour\n",
        "schedule['departure_minute'] = schedule['departure_time'].dt.minute"
      ],
      "metadata": {
        "id": "h8h6LXoPOl_D"
      },
      "execution_count": null,
      "outputs": []
    },
    {
      "cell_type": "code",
      "source": [
        "schedule.columns"
      ],
      "metadata": {
        "colab": {
          "base_uri": "https://localhost:8080/"
        },
        "id": "bdSvOFqwOl1x",
        "outputId": "21197289-6011-40ff-8968-dab18d97d453"
      },
      "execution_count": null,
      "outputs": [
        {
          "output_type": "execute_result",
          "data": {
            "text/plain": [
              "Index(['arrival', 'day', 'train_name', 'station_name', 'station_code', 'id',\n",
              "       'train_number', 'departure', 'code', 'name', 'zone_sch', 'address',\n",
              "       'arrival_time', 'departure_time', 'zone_train', 'duration_h',\n",
              "       'distance', 'from_station_code', 'to_station_code', 'time_of_day',\n",
              "       'is_peak_hour', 'travel_duration', 'arrival_hour', 'arrival_minute',\n",
              "       'departure_hour', 'departure_minute'],\n",
              "      dtype='object')"
            ]
          },
          "metadata": {},
          "execution_count": 47
        }
      ]
    },
    {
      "cell_type": "code",
      "source": [
        "schedule.to_csv('df.csv', index=True)"
      ],
      "metadata": {
        "id": "LiTk3mOJOloi"
      },
      "execution_count": null,
      "outputs": []
    },
    {
      "cell_type": "code",
      "source": [
        "import pandas as pd"
      ],
      "metadata": {
        "id": "0t8wqnicPLCU"
      },
      "execution_count": null,
      "outputs": []
    },
    {
      "cell_type": "code",
      "source": [
        "df = pd.read_csv(\"/content/df.csv\")"
      ],
      "metadata": {
        "id": "c0CIj5AyPkLh"
      },
      "execution_count": null,
      "outputs": []
    },
    {
      "cell_type": "code",
      "source": [
        "df.head(3)"
      ],
      "metadata": {
        "colab": {
          "base_uri": "https://localhost:8080/",
          "height": 314
        },
        "id": "pYE4ZVArPk4q",
        "outputId": "98d5ea97-acb3-46a3-9ff3-5198a361df05"
      },
      "execution_count": null,
      "outputs": [
        {
          "output_type": "execute_result",
          "data": {
            "text/plain": [
              "   Unnamed: 0 arrival  day                  train_name         station_name  \\\n",
              "0           0    None  1.0  Falaknuma Lingampalli MMTS  KACHEGUDA FALAKNUMA   \n",
              "1           1    None  1.0  Falaknuma Lingampalli MMTS  KACHEGUDA FALAKNUMA   \n",
              "2           2    None  1.0  Falaknuma Lingampalli MMTS  KACHEGUDA FALAKNUMA   \n",
              "\n",
              "  station_code      id train_number departure code  ... distance  \\\n",
              "0           FM  302214        47154  07:55:00   FM  ...     37.0   \n",
              "1           FM  302214        47154  07:55:00   FM  ...     37.0   \n",
              "2           FM  302214        47154  07:55:00   FM  ...     37.0   \n",
              "\n",
              "  from_station_code to_station_code time_of_day is_peak_hour travel_duration  \\\n",
              "0                FM             LPI     Morning            0        1.166667   \n",
              "1                FM             LPI     Morning            0        1.250000   \n",
              "2                FM             LPI     Morning            1        1.250000   \n",
              "\n",
              "   arrival_hour  arrival_minute departure_hour departure_minute  \n",
              "0             6              10              5                0  \n",
              "1             6              55              5               40  \n",
              "2             7              40              6               25  \n",
              "\n",
              "[3 rows x 27 columns]"
            ],
            "text/html": [
              "\n",
              "  <div id=\"df-d2fb63e4-c130-4f29-a328-42acd15ec3b0\" class=\"colab-df-container\">\n",
              "    <div>\n",
              "<style scoped>\n",
              "    .dataframe tbody tr th:only-of-type {\n",
              "        vertical-align: middle;\n",
              "    }\n",
              "\n",
              "    .dataframe tbody tr th {\n",
              "        vertical-align: top;\n",
              "    }\n",
              "\n",
              "    .dataframe thead th {\n",
              "        text-align: right;\n",
              "    }\n",
              "</style>\n",
              "<table border=\"1\" class=\"dataframe\">\n",
              "  <thead>\n",
              "    <tr style=\"text-align: right;\">\n",
              "      <th></th>\n",
              "      <th>Unnamed: 0</th>\n",
              "      <th>arrival</th>\n",
              "      <th>day</th>\n",
              "      <th>train_name</th>\n",
              "      <th>station_name</th>\n",
              "      <th>station_code</th>\n",
              "      <th>id</th>\n",
              "      <th>train_number</th>\n",
              "      <th>departure</th>\n",
              "      <th>code</th>\n",
              "      <th>...</th>\n",
              "      <th>distance</th>\n",
              "      <th>from_station_code</th>\n",
              "      <th>to_station_code</th>\n",
              "      <th>time_of_day</th>\n",
              "      <th>is_peak_hour</th>\n",
              "      <th>travel_duration</th>\n",
              "      <th>arrival_hour</th>\n",
              "      <th>arrival_minute</th>\n",
              "      <th>departure_hour</th>\n",
              "      <th>departure_minute</th>\n",
              "    </tr>\n",
              "  </thead>\n",
              "  <tbody>\n",
              "    <tr>\n",
              "      <th>0</th>\n",
              "      <td>0</td>\n",
              "      <td>None</td>\n",
              "      <td>1.0</td>\n",
              "      <td>Falaknuma Lingampalli MMTS</td>\n",
              "      <td>KACHEGUDA FALAKNUMA</td>\n",
              "      <td>FM</td>\n",
              "      <td>302214</td>\n",
              "      <td>47154</td>\n",
              "      <td>07:55:00</td>\n",
              "      <td>FM</td>\n",
              "      <td>...</td>\n",
              "      <td>37.0</td>\n",
              "      <td>FM</td>\n",
              "      <td>LPI</td>\n",
              "      <td>Morning</td>\n",
              "      <td>0</td>\n",
              "      <td>1.166667</td>\n",
              "      <td>6</td>\n",
              "      <td>10</td>\n",
              "      <td>5</td>\n",
              "      <td>0</td>\n",
              "    </tr>\n",
              "    <tr>\n",
              "      <th>1</th>\n",
              "      <td>1</td>\n",
              "      <td>None</td>\n",
              "      <td>1.0</td>\n",
              "      <td>Falaknuma Lingampalli MMTS</td>\n",
              "      <td>KACHEGUDA FALAKNUMA</td>\n",
              "      <td>FM</td>\n",
              "      <td>302214</td>\n",
              "      <td>47154</td>\n",
              "      <td>07:55:00</td>\n",
              "      <td>FM</td>\n",
              "      <td>...</td>\n",
              "      <td>37.0</td>\n",
              "      <td>FM</td>\n",
              "      <td>LPI</td>\n",
              "      <td>Morning</td>\n",
              "      <td>0</td>\n",
              "      <td>1.250000</td>\n",
              "      <td>6</td>\n",
              "      <td>55</td>\n",
              "      <td>5</td>\n",
              "      <td>40</td>\n",
              "    </tr>\n",
              "    <tr>\n",
              "      <th>2</th>\n",
              "      <td>2</td>\n",
              "      <td>None</td>\n",
              "      <td>1.0</td>\n",
              "      <td>Falaknuma Lingampalli MMTS</td>\n",
              "      <td>KACHEGUDA FALAKNUMA</td>\n",
              "      <td>FM</td>\n",
              "      <td>302214</td>\n",
              "      <td>47154</td>\n",
              "      <td>07:55:00</td>\n",
              "      <td>FM</td>\n",
              "      <td>...</td>\n",
              "      <td>37.0</td>\n",
              "      <td>FM</td>\n",
              "      <td>LPI</td>\n",
              "      <td>Morning</td>\n",
              "      <td>1</td>\n",
              "      <td>1.250000</td>\n",
              "      <td>7</td>\n",
              "      <td>40</td>\n",
              "      <td>6</td>\n",
              "      <td>25</td>\n",
              "    </tr>\n",
              "  </tbody>\n",
              "</table>\n",
              "<p>3 rows × 27 columns</p>\n",
              "</div>\n",
              "    <div class=\"colab-df-buttons\">\n",
              "\n",
              "  <div class=\"colab-df-container\">\n",
              "    <button class=\"colab-df-convert\" onclick=\"convertToInteractive('df-d2fb63e4-c130-4f29-a328-42acd15ec3b0')\"\n",
              "            title=\"Convert this dataframe to an interactive table.\"\n",
              "            style=\"display:none;\">\n",
              "\n",
              "  <svg xmlns=\"http://www.w3.org/2000/svg\" height=\"24px\" viewBox=\"0 -960 960 960\">\n",
              "    <path d=\"M120-120v-720h720v720H120Zm60-500h600v-160H180v160Zm220 220h160v-160H400v160Zm0 220h160v-160H400v160ZM180-400h160v-160H180v160Zm440 0h160v-160H620v160ZM180-180h160v-160H180v160Zm440 0h160v-160H620v160Z\"/>\n",
              "  </svg>\n",
              "    </button>\n",
              "\n",
              "  <style>\n",
              "    .colab-df-container {\n",
              "      display:flex;\n",
              "      gap: 12px;\n",
              "    }\n",
              "\n",
              "    .colab-df-convert {\n",
              "      background-color: #E8F0FE;\n",
              "      border: none;\n",
              "      border-radius: 50%;\n",
              "      cursor: pointer;\n",
              "      display: none;\n",
              "      fill: #1967D2;\n",
              "      height: 32px;\n",
              "      padding: 0 0 0 0;\n",
              "      width: 32px;\n",
              "    }\n",
              "\n",
              "    .colab-df-convert:hover {\n",
              "      background-color: #E2EBFA;\n",
              "      box-shadow: 0px 1px 2px rgba(60, 64, 67, 0.3), 0px 1px 3px 1px rgba(60, 64, 67, 0.15);\n",
              "      fill: #174EA6;\n",
              "    }\n",
              "\n",
              "    .colab-df-buttons div {\n",
              "      margin-bottom: 4px;\n",
              "    }\n",
              "\n",
              "    [theme=dark] .colab-df-convert {\n",
              "      background-color: #3B4455;\n",
              "      fill: #D2E3FC;\n",
              "    }\n",
              "\n",
              "    [theme=dark] .colab-df-convert:hover {\n",
              "      background-color: #434B5C;\n",
              "      box-shadow: 0px 1px 3px 1px rgba(0, 0, 0, 0.15);\n",
              "      filter: drop-shadow(0px 1px 2px rgba(0, 0, 0, 0.3));\n",
              "      fill: #FFFFFF;\n",
              "    }\n",
              "  </style>\n",
              "\n",
              "    <script>\n",
              "      const buttonEl =\n",
              "        document.querySelector('#df-d2fb63e4-c130-4f29-a328-42acd15ec3b0 button.colab-df-convert');\n",
              "      buttonEl.style.display =\n",
              "        google.colab.kernel.accessAllowed ? 'block' : 'none';\n",
              "\n",
              "      async function convertToInteractive(key) {\n",
              "        const element = document.querySelector('#df-d2fb63e4-c130-4f29-a328-42acd15ec3b0');\n",
              "        const dataTable =\n",
              "          await google.colab.kernel.invokeFunction('convertToInteractive',\n",
              "                                                    [key], {});\n",
              "        if (!dataTable) return;\n",
              "\n",
              "        const docLinkHtml = 'Like what you see? Visit the ' +\n",
              "          '<a target=\"_blank\" href=https://colab.research.google.com/notebooks/data_table.ipynb>data table notebook</a>'\n",
              "          + ' to learn more about interactive tables.';\n",
              "        element.innerHTML = '';\n",
              "        dataTable['output_type'] = 'display_data';\n",
              "        await google.colab.output.renderOutput(dataTable, element);\n",
              "        const docLink = document.createElement('div');\n",
              "        docLink.innerHTML = docLinkHtml;\n",
              "        element.appendChild(docLink);\n",
              "      }\n",
              "    </script>\n",
              "  </div>\n",
              "\n",
              "\n",
              "<div id=\"df-928d1f29-531a-497d-aade-1302a4fffafd\">\n",
              "  <button class=\"colab-df-quickchart\" onclick=\"quickchart('df-928d1f29-531a-497d-aade-1302a4fffafd')\"\n",
              "            title=\"Suggest charts\"\n",
              "            style=\"display:none;\">\n",
              "\n",
              "<svg xmlns=\"http://www.w3.org/2000/svg\" height=\"24px\"viewBox=\"0 0 24 24\"\n",
              "     width=\"24px\">\n",
              "    <g>\n",
              "        <path d=\"M19 3H5c-1.1 0-2 .9-2 2v14c0 1.1.9 2 2 2h14c1.1 0 2-.9 2-2V5c0-1.1-.9-2-2-2zM9 17H7v-7h2v7zm4 0h-2V7h2v10zm4 0h-2v-4h2v4z\"/>\n",
              "    </g>\n",
              "</svg>\n",
              "  </button>\n",
              "\n",
              "<style>\n",
              "  .colab-df-quickchart {\n",
              "      --bg-color: #E8F0FE;\n",
              "      --fill-color: #1967D2;\n",
              "      --hover-bg-color: #E2EBFA;\n",
              "      --hover-fill-color: #174EA6;\n",
              "      --disabled-fill-color: #AAA;\n",
              "      --disabled-bg-color: #DDD;\n",
              "  }\n",
              "\n",
              "  [theme=dark] .colab-df-quickchart {\n",
              "      --bg-color: #3B4455;\n",
              "      --fill-color: #D2E3FC;\n",
              "      --hover-bg-color: #434B5C;\n",
              "      --hover-fill-color: #FFFFFF;\n",
              "      --disabled-bg-color: #3B4455;\n",
              "      --disabled-fill-color: #666;\n",
              "  }\n",
              "\n",
              "  .colab-df-quickchart {\n",
              "    background-color: var(--bg-color);\n",
              "    border: none;\n",
              "    border-radius: 50%;\n",
              "    cursor: pointer;\n",
              "    display: none;\n",
              "    fill: var(--fill-color);\n",
              "    height: 32px;\n",
              "    padding: 0;\n",
              "    width: 32px;\n",
              "  }\n",
              "\n",
              "  .colab-df-quickchart:hover {\n",
              "    background-color: var(--hover-bg-color);\n",
              "    box-shadow: 0 1px 2px rgba(60, 64, 67, 0.3), 0 1px 3px 1px rgba(60, 64, 67, 0.15);\n",
              "    fill: var(--button-hover-fill-color);\n",
              "  }\n",
              "\n",
              "  .colab-df-quickchart-complete:disabled,\n",
              "  .colab-df-quickchart-complete:disabled:hover {\n",
              "    background-color: var(--disabled-bg-color);\n",
              "    fill: var(--disabled-fill-color);\n",
              "    box-shadow: none;\n",
              "  }\n",
              "\n",
              "  .colab-df-spinner {\n",
              "    border: 2px solid var(--fill-color);\n",
              "    border-color: transparent;\n",
              "    border-bottom-color: var(--fill-color);\n",
              "    animation:\n",
              "      spin 1s steps(1) infinite;\n",
              "  }\n",
              "\n",
              "  @keyframes spin {\n",
              "    0% {\n",
              "      border-color: transparent;\n",
              "      border-bottom-color: var(--fill-color);\n",
              "      border-left-color: var(--fill-color);\n",
              "    }\n",
              "    20% {\n",
              "      border-color: transparent;\n",
              "      border-left-color: var(--fill-color);\n",
              "      border-top-color: var(--fill-color);\n",
              "    }\n",
              "    30% {\n",
              "      border-color: transparent;\n",
              "      border-left-color: var(--fill-color);\n",
              "      border-top-color: var(--fill-color);\n",
              "      border-right-color: var(--fill-color);\n",
              "    }\n",
              "    40% {\n",
              "      border-color: transparent;\n",
              "      border-right-color: var(--fill-color);\n",
              "      border-top-color: var(--fill-color);\n",
              "    }\n",
              "    60% {\n",
              "      border-color: transparent;\n",
              "      border-right-color: var(--fill-color);\n",
              "    }\n",
              "    80% {\n",
              "      border-color: transparent;\n",
              "      border-right-color: var(--fill-color);\n",
              "      border-bottom-color: var(--fill-color);\n",
              "    }\n",
              "    90% {\n",
              "      border-color: transparent;\n",
              "      border-bottom-color: var(--fill-color);\n",
              "    }\n",
              "  }\n",
              "</style>\n",
              "\n",
              "  <script>\n",
              "    async function quickchart(key) {\n",
              "      const quickchartButtonEl =\n",
              "        document.querySelector('#' + key + ' button');\n",
              "      quickchartButtonEl.disabled = true;  // To prevent multiple clicks.\n",
              "      quickchartButtonEl.classList.add('colab-df-spinner');\n",
              "      try {\n",
              "        const charts = await google.colab.kernel.invokeFunction(\n",
              "            'suggestCharts', [key], {});\n",
              "      } catch (error) {\n",
              "        console.error('Error during call to suggestCharts:', error);\n",
              "      }\n",
              "      quickchartButtonEl.classList.remove('colab-df-spinner');\n",
              "      quickchartButtonEl.classList.add('colab-df-quickchart-complete');\n",
              "    }\n",
              "    (() => {\n",
              "      let quickchartButtonEl =\n",
              "        document.querySelector('#df-928d1f29-531a-497d-aade-1302a4fffafd button');\n",
              "      quickchartButtonEl.style.display =\n",
              "        google.colab.kernel.accessAllowed ? 'block' : 'none';\n",
              "    })();\n",
              "  </script>\n",
              "</div>\n",
              "\n",
              "    </div>\n",
              "  </div>\n"
            ],
            "application/vnd.google.colaboratory.intrinsic+json": {
              "type": "dataframe",
              "variable_name": "df"
            }
          },
          "metadata": {},
          "execution_count": 52
        }
      ]
    },
    {
      "cell_type": "code",
      "source": [
        "df.shape"
      ],
      "metadata": {
        "colab": {
          "base_uri": "https://localhost:8080/"
        },
        "id": "fKfbE9eiPk1U",
        "outputId": "da8c8b68-13eb-40dc-a7be-688ca408ca99"
      },
      "execution_count": null,
      "outputs": [
        {
          "output_type": "execute_result",
          "data": {
            "text/plain": [
              "(716315, 27)"
            ]
          },
          "metadata": {},
          "execution_count": 53
        }
      ]
    },
    {
      "cell_type": "code",
      "source": [
        "df.columns"
      ],
      "metadata": {
        "colab": {
          "base_uri": "https://localhost:8080/"
        },
        "id": "fZbNNEZCPky2",
        "outputId": "eb8d97e4-72f4-499a-ad9c-61862ce70a48"
      },
      "execution_count": null,
      "outputs": [
        {
          "output_type": "execute_result",
          "data": {
            "text/plain": [
              "Index(['Unnamed: 0', 'arrival', 'day', 'train_name', 'station_name',\n",
              "       'station_code', 'id', 'train_number', 'departure', 'code', 'name',\n",
              "       'zone_sch', 'address', 'arrival_time', 'departure_time', 'zone_train',\n",
              "       'duration_h', 'distance', 'from_station_code', 'to_station_code',\n",
              "       'time_of_day', 'is_peak_hour', 'travel_duration', 'arrival_hour',\n",
              "       'arrival_minute', 'departure_hour', 'departure_minute'],\n",
              "      dtype='object')"
            ]
          },
          "metadata": {},
          "execution_count": 54
        }
      ]
    },
    {
      "cell_type": "markdown",
      "source": [
        "Enoding"
      ],
      "metadata": {
        "id": "3DwitTyoQIpQ"
      }
    },
    {
      "cell_type": "code",
      "source": [
        "cat_col = df.select_dtypes(include=['object']).columns.tolist()\n",
        "print(cat_col)"
      ],
      "metadata": {
        "colab": {
          "base_uri": "https://localhost:8080/"
        },
        "id": "mNi2NH2JPkwZ",
        "outputId": "2cea1dc5-4baa-4933-dedd-1747255f42c2"
      },
      "execution_count": null,
      "outputs": [
        {
          "output_type": "stream",
          "name": "stdout",
          "text": [
            "['arrival', 'train_name', 'station_name', 'station_code', 'train_number', 'departure', 'code', 'name', 'zone_sch', 'address', 'arrival_time', 'departure_time', 'zone_train', 'from_station_code', 'to_station_code', 'time_of_day']\n"
          ]
        }
      ]
    },
    {
      "cell_type": "code",
      "source": [
        "len(cat_col)"
      ],
      "metadata": {
        "colab": {
          "base_uri": "https://localhost:8080/"
        },
        "id": "tEqwLmvyPkuB",
        "outputId": "87e1ae96-932a-4343-d5fd-f16cef8afc80"
      },
      "execution_count": null,
      "outputs": [
        {
          "output_type": "execute_result",
          "data": {
            "text/plain": [
              "16"
            ]
          },
          "metadata": {},
          "execution_count": 56
        }
      ]
    },
    {
      "cell_type": "code",
      "source": [
        "cat_cols = ['arrival', 'train_name', 'station_name', 'station_code', 'train_number', 'departure', 'code', 'name', 'zone_sch', 'address', 'arrival_time', 'departure_time', 'zone_train', 'from_station_code', 'to_station_code', 'time_of_day']\n",
        "\n",
        "for col in cat_cols:\n",
        "    unique_values = df[col].nunique()\n",
        "    print(f\"'{col}',  {unique_values}.\")"
      ],
      "metadata": {
        "colab": {
          "base_uri": "https://localhost:8080/"
        },
        "id": "AdPz_897Pkrn",
        "outputId": "37993240-561b-444a-b51c-701d847b3f79"
      },
      "execution_count": null,
      "outputs": [
        {
          "output_type": "stream",
          "name": "stdout",
          "text": [
            "'arrival',  1441.\n",
            "'train_name',  3933.\n",
            "'station_name',  8493.\n",
            "'station_code',  8538.\n",
            "'train_number',  5193.\n",
            "'departure',  1441.\n",
            "'code',  8538.\n",
            "'name',  8493.\n",
            "'zone_sch',  19.\n",
            "'address',  2716.\n",
            "'arrival_time',  369.\n",
            "'departure_time',  349.\n",
            "'zone_train',  18.\n",
            "'from_station_code',  724.\n",
            "'to_station_code',  730.\n",
            "'time_of_day',  4.\n"
          ]
        }
      ]
    },
    {
      "cell_type": "code",
      "source": [
        "!pip install category_encoders"
      ],
      "metadata": {
        "colab": {
          "base_uri": "https://localhost:8080/"
        },
        "id": "9JxdvFIxPkpA",
        "outputId": "b94d996b-4b92-48dd-fd09-3b7668784887"
      },
      "execution_count": null,
      "outputs": [
        {
          "output_type": "stream",
          "name": "stdout",
          "text": [
            "Collecting category_encoders\n",
            "  Downloading category_encoders-2.6.3-py2.py3-none-any.whl (81 kB)\n",
            "\u001b[?25l     \u001b[90m━━━━━━━━━━━━━━━━━━━━━━━━━━━━━━━━━━━━━━━━\u001b[0m \u001b[32m0.0/81.9 kB\u001b[0m \u001b[31m?\u001b[0m eta \u001b[36m-:--:--\u001b[0m\r\u001b[2K     \u001b[90m━━━━━━━━━━━━━━━━━━━━━━━━━━━━━━━━━━━━━━━━\u001b[0m \u001b[32m81.9/81.9 kB\u001b[0m \u001b[31m2.2 MB/s\u001b[0m eta \u001b[36m0:00:00\u001b[0m\n",
            "\u001b[?25hRequirement already satisfied: numpy>=1.14.0 in /usr/local/lib/python3.10/dist-packages (from category_encoders) (1.25.2)\n",
            "Requirement already satisfied: scikit-learn>=0.20.0 in /usr/local/lib/python3.10/dist-packages (from category_encoders) (1.2.2)\n",
            "Requirement already satisfied: scipy>=1.0.0 in /usr/local/lib/python3.10/dist-packages (from category_encoders) (1.11.4)\n",
            "Requirement already satisfied: statsmodels>=0.9.0 in /usr/local/lib/python3.10/dist-packages (from category_encoders) (0.14.1)\n",
            "Requirement already satisfied: pandas>=1.0.5 in /usr/local/lib/python3.10/dist-packages (from category_encoders) (1.5.3)\n",
            "Requirement already satisfied: patsy>=0.5.1 in /usr/local/lib/python3.10/dist-packages (from category_encoders) (0.5.6)\n",
            "Requirement already satisfied: python-dateutil>=2.8.1 in /usr/local/lib/python3.10/dist-packages (from pandas>=1.0.5->category_encoders) (2.8.2)\n",
            "Requirement already satisfied: pytz>=2020.1 in /usr/local/lib/python3.10/dist-packages (from pandas>=1.0.5->category_encoders) (2023.4)\n",
            "Requirement already satisfied: six in /usr/local/lib/python3.10/dist-packages (from patsy>=0.5.1->category_encoders) (1.16.0)\n",
            "Requirement already satisfied: joblib>=1.1.1 in /usr/local/lib/python3.10/dist-packages (from scikit-learn>=0.20.0->category_encoders) (1.3.2)\n",
            "Requirement already satisfied: threadpoolctl>=2.0.0 in /usr/local/lib/python3.10/dist-packages (from scikit-learn>=0.20.0->category_encoders) (3.4.0)\n",
            "Requirement already satisfied: packaging>=21.3 in /usr/local/lib/python3.10/dist-packages (from statsmodels>=0.9.0->category_encoders) (24.0)\n",
            "Installing collected packages: category_encoders\n",
            "Successfully installed category_encoders-2.6.3\n"
          ]
        }
      ]
    },
    {
      "cell_type": "code",
      "source": [
        "import category_encoders as ce"
      ],
      "metadata": {
        "id": "Gu1HG9iePkmV"
      },
      "execution_count": null,
      "outputs": []
    },
    {
      "cell_type": "code",
      "source": [
        "# Define the categorical columns\n",
        "cat_cols = ['arrival', 'train_name', 'station_name', 'station_code', 'train_number',\n",
        "            'departure', 'code', 'name', 'zone_sch', 'address', 'arrival_time',\n",
        "            'departure_time', 'zone_train', 'from_station_code', 'to_station_code',\n",
        "            'time_of_day']\n",
        "\n",
        "# Assuming df is your DataFrame containing these categorical columns\n",
        "# Perform binary encoding\n",
        "encoder = ce.BinaryEncoder(cols=cat_cols)\n",
        "df1 = encoder.fit_transform(df)"
      ],
      "metadata": {
        "id": "AvHBIHfNPkjt"
      },
      "execution_count": null,
      "outputs": []
    },
    {
      "cell_type": "code",
      "source": [
        "df1.head(3)"
      ],
      "metadata": {
        "colab": {
          "base_uri": "https://localhost:8080/",
          "height": 210
        },
        "id": "XIKVORHQPKsf",
        "outputId": "fb9c31b8-00a8-4044-f8ae-2cff8532b6fa"
      },
      "execution_count": null,
      "outputs": [
        {
          "output_type": "execute_result",
          "data": {
            "text/plain": [
              "   Unnamed: 0  arrival_0  arrival_1  arrival_2  arrival_3  arrival_4  \\\n",
              "0           0          0          0          0          0          0   \n",
              "1           1          0          0          0          0          0   \n",
              "2           2          0          0          0          0          0   \n",
              "\n",
              "   arrival_5  arrival_6  arrival_7  arrival_8  ...  to_station_code_9  \\\n",
              "0          0          0          0          0  ...                  1   \n",
              "1          0          0          0          0  ...                  1   \n",
              "2          0          0          0          0  ...                  1   \n",
              "\n",
              "   time_of_day_0  time_of_day_1  time_of_day_2  is_peak_hour  travel_duration  \\\n",
              "0              0              0              1             0         1.166667   \n",
              "1              0              0              1             0         1.250000   \n",
              "2              0              0              1             1         1.250000   \n",
              "\n",
              "   arrival_hour  arrival_minute  departure_hour  departure_minute  \n",
              "0             6              10               5                 0  \n",
              "1             6              55               5                40  \n",
              "2             7              40               6                25  \n",
              "\n",
              "[3 rows x 177 columns]"
            ],
            "text/html": [
              "\n",
              "  <div id=\"df-3dcc7a3e-e047-4ad9-b71d-f0bab835d7d3\" class=\"colab-df-container\">\n",
              "    <div>\n",
              "<style scoped>\n",
              "    .dataframe tbody tr th:only-of-type {\n",
              "        vertical-align: middle;\n",
              "    }\n",
              "\n",
              "    .dataframe tbody tr th {\n",
              "        vertical-align: top;\n",
              "    }\n",
              "\n",
              "    .dataframe thead th {\n",
              "        text-align: right;\n",
              "    }\n",
              "</style>\n",
              "<table border=\"1\" class=\"dataframe\">\n",
              "  <thead>\n",
              "    <tr style=\"text-align: right;\">\n",
              "      <th></th>\n",
              "      <th>Unnamed: 0</th>\n",
              "      <th>arrival_0</th>\n",
              "      <th>arrival_1</th>\n",
              "      <th>arrival_2</th>\n",
              "      <th>arrival_3</th>\n",
              "      <th>arrival_4</th>\n",
              "      <th>arrival_5</th>\n",
              "      <th>arrival_6</th>\n",
              "      <th>arrival_7</th>\n",
              "      <th>arrival_8</th>\n",
              "      <th>...</th>\n",
              "      <th>to_station_code_9</th>\n",
              "      <th>time_of_day_0</th>\n",
              "      <th>time_of_day_1</th>\n",
              "      <th>time_of_day_2</th>\n",
              "      <th>is_peak_hour</th>\n",
              "      <th>travel_duration</th>\n",
              "      <th>arrival_hour</th>\n",
              "      <th>arrival_minute</th>\n",
              "      <th>departure_hour</th>\n",
              "      <th>departure_minute</th>\n",
              "    </tr>\n",
              "  </thead>\n",
              "  <tbody>\n",
              "    <tr>\n",
              "      <th>0</th>\n",
              "      <td>0</td>\n",
              "      <td>0</td>\n",
              "      <td>0</td>\n",
              "      <td>0</td>\n",
              "      <td>0</td>\n",
              "      <td>0</td>\n",
              "      <td>0</td>\n",
              "      <td>0</td>\n",
              "      <td>0</td>\n",
              "      <td>0</td>\n",
              "      <td>...</td>\n",
              "      <td>1</td>\n",
              "      <td>0</td>\n",
              "      <td>0</td>\n",
              "      <td>1</td>\n",
              "      <td>0</td>\n",
              "      <td>1.166667</td>\n",
              "      <td>6</td>\n",
              "      <td>10</td>\n",
              "      <td>5</td>\n",
              "      <td>0</td>\n",
              "    </tr>\n",
              "    <tr>\n",
              "      <th>1</th>\n",
              "      <td>1</td>\n",
              "      <td>0</td>\n",
              "      <td>0</td>\n",
              "      <td>0</td>\n",
              "      <td>0</td>\n",
              "      <td>0</td>\n",
              "      <td>0</td>\n",
              "      <td>0</td>\n",
              "      <td>0</td>\n",
              "      <td>0</td>\n",
              "      <td>...</td>\n",
              "      <td>1</td>\n",
              "      <td>0</td>\n",
              "      <td>0</td>\n",
              "      <td>1</td>\n",
              "      <td>0</td>\n",
              "      <td>1.250000</td>\n",
              "      <td>6</td>\n",
              "      <td>55</td>\n",
              "      <td>5</td>\n",
              "      <td>40</td>\n",
              "    </tr>\n",
              "    <tr>\n",
              "      <th>2</th>\n",
              "      <td>2</td>\n",
              "      <td>0</td>\n",
              "      <td>0</td>\n",
              "      <td>0</td>\n",
              "      <td>0</td>\n",
              "      <td>0</td>\n",
              "      <td>0</td>\n",
              "      <td>0</td>\n",
              "      <td>0</td>\n",
              "      <td>0</td>\n",
              "      <td>...</td>\n",
              "      <td>1</td>\n",
              "      <td>0</td>\n",
              "      <td>0</td>\n",
              "      <td>1</td>\n",
              "      <td>1</td>\n",
              "      <td>1.250000</td>\n",
              "      <td>7</td>\n",
              "      <td>40</td>\n",
              "      <td>6</td>\n",
              "      <td>25</td>\n",
              "    </tr>\n",
              "  </tbody>\n",
              "</table>\n",
              "<p>3 rows × 177 columns</p>\n",
              "</div>\n",
              "    <div class=\"colab-df-buttons\">\n",
              "\n",
              "  <div class=\"colab-df-container\">\n",
              "    <button class=\"colab-df-convert\" onclick=\"convertToInteractive('df-3dcc7a3e-e047-4ad9-b71d-f0bab835d7d3')\"\n",
              "            title=\"Convert this dataframe to an interactive table.\"\n",
              "            style=\"display:none;\">\n",
              "\n",
              "  <svg xmlns=\"http://www.w3.org/2000/svg\" height=\"24px\" viewBox=\"0 -960 960 960\">\n",
              "    <path d=\"M120-120v-720h720v720H120Zm60-500h600v-160H180v160Zm220 220h160v-160H400v160Zm0 220h160v-160H400v160ZM180-400h160v-160H180v160Zm440 0h160v-160H620v160ZM180-180h160v-160H180v160Zm440 0h160v-160H620v160Z\"/>\n",
              "  </svg>\n",
              "    </button>\n",
              "\n",
              "  <style>\n",
              "    .colab-df-container {\n",
              "      display:flex;\n",
              "      gap: 12px;\n",
              "    }\n",
              "\n",
              "    .colab-df-convert {\n",
              "      background-color: #E8F0FE;\n",
              "      border: none;\n",
              "      border-radius: 50%;\n",
              "      cursor: pointer;\n",
              "      display: none;\n",
              "      fill: #1967D2;\n",
              "      height: 32px;\n",
              "      padding: 0 0 0 0;\n",
              "      width: 32px;\n",
              "    }\n",
              "\n",
              "    .colab-df-convert:hover {\n",
              "      background-color: #E2EBFA;\n",
              "      box-shadow: 0px 1px 2px rgba(60, 64, 67, 0.3), 0px 1px 3px 1px rgba(60, 64, 67, 0.15);\n",
              "      fill: #174EA6;\n",
              "    }\n",
              "\n",
              "    .colab-df-buttons div {\n",
              "      margin-bottom: 4px;\n",
              "    }\n",
              "\n",
              "    [theme=dark] .colab-df-convert {\n",
              "      background-color: #3B4455;\n",
              "      fill: #D2E3FC;\n",
              "    }\n",
              "\n",
              "    [theme=dark] .colab-df-convert:hover {\n",
              "      background-color: #434B5C;\n",
              "      box-shadow: 0px 1px 3px 1px rgba(0, 0, 0, 0.15);\n",
              "      filter: drop-shadow(0px 1px 2px rgba(0, 0, 0, 0.3));\n",
              "      fill: #FFFFFF;\n",
              "    }\n",
              "  </style>\n",
              "\n",
              "    <script>\n",
              "      const buttonEl =\n",
              "        document.querySelector('#df-3dcc7a3e-e047-4ad9-b71d-f0bab835d7d3 button.colab-df-convert');\n",
              "      buttonEl.style.display =\n",
              "        google.colab.kernel.accessAllowed ? 'block' : 'none';\n",
              "\n",
              "      async function convertToInteractive(key) {\n",
              "        const element = document.querySelector('#df-3dcc7a3e-e047-4ad9-b71d-f0bab835d7d3');\n",
              "        const dataTable =\n",
              "          await google.colab.kernel.invokeFunction('convertToInteractive',\n",
              "                                                    [key], {});\n",
              "        if (!dataTable) return;\n",
              "\n",
              "        const docLinkHtml = 'Like what you see? Visit the ' +\n",
              "          '<a target=\"_blank\" href=https://colab.research.google.com/notebooks/data_table.ipynb>data table notebook</a>'\n",
              "          + ' to learn more about interactive tables.';\n",
              "        element.innerHTML = '';\n",
              "        dataTable['output_type'] = 'display_data';\n",
              "        await google.colab.output.renderOutput(dataTable, element);\n",
              "        const docLink = document.createElement('div');\n",
              "        docLink.innerHTML = docLinkHtml;\n",
              "        element.appendChild(docLink);\n",
              "      }\n",
              "    </script>\n",
              "  </div>\n",
              "\n",
              "\n",
              "<div id=\"df-f65a71c7-5f0b-4438-99aa-224a273c1177\">\n",
              "  <button class=\"colab-df-quickchart\" onclick=\"quickchart('df-f65a71c7-5f0b-4438-99aa-224a273c1177')\"\n",
              "            title=\"Suggest charts\"\n",
              "            style=\"display:none;\">\n",
              "\n",
              "<svg xmlns=\"http://www.w3.org/2000/svg\" height=\"24px\"viewBox=\"0 0 24 24\"\n",
              "     width=\"24px\">\n",
              "    <g>\n",
              "        <path d=\"M19 3H5c-1.1 0-2 .9-2 2v14c0 1.1.9 2 2 2h14c1.1 0 2-.9 2-2V5c0-1.1-.9-2-2-2zM9 17H7v-7h2v7zm4 0h-2V7h2v10zm4 0h-2v-4h2v4z\"/>\n",
              "    </g>\n",
              "</svg>\n",
              "  </button>\n",
              "\n",
              "<style>\n",
              "  .colab-df-quickchart {\n",
              "      --bg-color: #E8F0FE;\n",
              "      --fill-color: #1967D2;\n",
              "      --hover-bg-color: #E2EBFA;\n",
              "      --hover-fill-color: #174EA6;\n",
              "      --disabled-fill-color: #AAA;\n",
              "      --disabled-bg-color: #DDD;\n",
              "  }\n",
              "\n",
              "  [theme=dark] .colab-df-quickchart {\n",
              "      --bg-color: #3B4455;\n",
              "      --fill-color: #D2E3FC;\n",
              "      --hover-bg-color: #434B5C;\n",
              "      --hover-fill-color: #FFFFFF;\n",
              "      --disabled-bg-color: #3B4455;\n",
              "      --disabled-fill-color: #666;\n",
              "  }\n",
              "\n",
              "  .colab-df-quickchart {\n",
              "    background-color: var(--bg-color);\n",
              "    border: none;\n",
              "    border-radius: 50%;\n",
              "    cursor: pointer;\n",
              "    display: none;\n",
              "    fill: var(--fill-color);\n",
              "    height: 32px;\n",
              "    padding: 0;\n",
              "    width: 32px;\n",
              "  }\n",
              "\n",
              "  .colab-df-quickchart:hover {\n",
              "    background-color: var(--hover-bg-color);\n",
              "    box-shadow: 0 1px 2px rgba(60, 64, 67, 0.3), 0 1px 3px 1px rgba(60, 64, 67, 0.15);\n",
              "    fill: var(--button-hover-fill-color);\n",
              "  }\n",
              "\n",
              "  .colab-df-quickchart-complete:disabled,\n",
              "  .colab-df-quickchart-complete:disabled:hover {\n",
              "    background-color: var(--disabled-bg-color);\n",
              "    fill: var(--disabled-fill-color);\n",
              "    box-shadow: none;\n",
              "  }\n",
              "\n",
              "  .colab-df-spinner {\n",
              "    border: 2px solid var(--fill-color);\n",
              "    border-color: transparent;\n",
              "    border-bottom-color: var(--fill-color);\n",
              "    animation:\n",
              "      spin 1s steps(1) infinite;\n",
              "  }\n",
              "\n",
              "  @keyframes spin {\n",
              "    0% {\n",
              "      border-color: transparent;\n",
              "      border-bottom-color: var(--fill-color);\n",
              "      border-left-color: var(--fill-color);\n",
              "    }\n",
              "    20% {\n",
              "      border-color: transparent;\n",
              "      border-left-color: var(--fill-color);\n",
              "      border-top-color: var(--fill-color);\n",
              "    }\n",
              "    30% {\n",
              "      border-color: transparent;\n",
              "      border-left-color: var(--fill-color);\n",
              "      border-top-color: var(--fill-color);\n",
              "      border-right-color: var(--fill-color);\n",
              "    }\n",
              "    40% {\n",
              "      border-color: transparent;\n",
              "      border-right-color: var(--fill-color);\n",
              "      border-top-color: var(--fill-color);\n",
              "    }\n",
              "    60% {\n",
              "      border-color: transparent;\n",
              "      border-right-color: var(--fill-color);\n",
              "    }\n",
              "    80% {\n",
              "      border-color: transparent;\n",
              "      border-right-color: var(--fill-color);\n",
              "      border-bottom-color: var(--fill-color);\n",
              "    }\n",
              "    90% {\n",
              "      border-color: transparent;\n",
              "      border-bottom-color: var(--fill-color);\n",
              "    }\n",
              "  }\n",
              "</style>\n",
              "\n",
              "  <script>\n",
              "    async function quickchart(key) {\n",
              "      const quickchartButtonEl =\n",
              "        document.querySelector('#' + key + ' button');\n",
              "      quickchartButtonEl.disabled = true;  // To prevent multiple clicks.\n",
              "      quickchartButtonEl.classList.add('colab-df-spinner');\n",
              "      try {\n",
              "        const charts = await google.colab.kernel.invokeFunction(\n",
              "            'suggestCharts', [key], {});\n",
              "      } catch (error) {\n",
              "        console.error('Error during call to suggestCharts:', error);\n",
              "      }\n",
              "      quickchartButtonEl.classList.remove('colab-df-spinner');\n",
              "      quickchartButtonEl.classList.add('colab-df-quickchart-complete');\n",
              "    }\n",
              "    (() => {\n",
              "      let quickchartButtonEl =\n",
              "        document.querySelector('#df-f65a71c7-5f0b-4438-99aa-224a273c1177 button');\n",
              "      quickchartButtonEl.style.display =\n",
              "        google.colab.kernel.accessAllowed ? 'block' : 'none';\n",
              "    })();\n",
              "  </script>\n",
              "</div>\n",
              "\n",
              "    </div>\n",
              "  </div>\n"
            ],
            "application/vnd.google.colaboratory.intrinsic+json": {
              "type": "dataframe",
              "variable_name": "df1"
            }
          },
          "metadata": {},
          "execution_count": 61
        }
      ]
    },
    {
      "cell_type": "code",
      "source": [
        "df1.info()"
      ],
      "metadata": {
        "colab": {
          "base_uri": "https://localhost:8080/"
        },
        "id": "80V5SepGQ76K",
        "outputId": "b5d72311-9161-42e5-a6dc-6dd7628d3f5f"
      },
      "execution_count": null,
      "outputs": [
        {
          "output_type": "stream",
          "name": "stdout",
          "text": [
            "<class 'pandas.core.frame.DataFrame'>\n",
            "RangeIndex: 716315 entries, 0 to 716314\n",
            "Columns: 177 entries, Unnamed: 0 to departure_minute\n",
            "dtypes: float64(4), int64(173)\n",
            "memory usage: 967.3 MB\n"
          ]
        }
      ]
    },
    {
      "cell_type": "code",
      "source": [
        "df.info()"
      ],
      "metadata": {
        "colab": {
          "base_uri": "https://localhost:8080/"
        },
        "id": "drbkIivmQ720",
        "outputId": "f48e1fcf-3c4f-4c68-b43b-13e5b68429d4"
      },
      "execution_count": null,
      "outputs": [
        {
          "output_type": "stream",
          "name": "stdout",
          "text": [
            "<class 'pandas.core.frame.DataFrame'>\n",
            "RangeIndex: 716315 entries, 0 to 716314\n",
            "Data columns (total 27 columns):\n",
            " #   Column             Non-Null Count   Dtype  \n",
            "---  ------             --------------   -----  \n",
            " 0   Unnamed: 0         716315 non-null  int64  \n",
            " 1   arrival            716315 non-null  object \n",
            " 2   day                693260 non-null  float64\n",
            " 3   train_name         716307 non-null  object \n",
            " 4   station_name       716313 non-null  object \n",
            " 5   station_code       716315 non-null  object \n",
            " 6   id                 716315 non-null  int64  \n",
            " 7   train_number       716315 non-null  object \n",
            " 8   departure          716315 non-null  object \n",
            " 9   code               716315 non-null  object \n",
            " 10  name               716313 non-null  object \n",
            " 11  zone_sch           716315 non-null  object \n",
            " 12  address            715529 non-null  object \n",
            " 13  arrival_time       716315 non-null  object \n",
            " 14  departure_time     716315 non-null  object \n",
            " 15  zone_train         716315 non-null  object \n",
            " 16  duration_h         716315 non-null  float64\n",
            " 17  distance           716315 non-null  float64\n",
            " 18  from_station_code  716315 non-null  object \n",
            " 19  to_station_code    716315 non-null  object \n",
            " 20  time_of_day        716315 non-null  object \n",
            " 21  is_peak_hour       716315 non-null  int64  \n",
            " 22  travel_duration    716315 non-null  float64\n",
            " 23  arrival_hour       716315 non-null  int64  \n",
            " 24  arrival_minute     716315 non-null  int64  \n",
            " 25  departure_hour     716315 non-null  int64  \n",
            " 26  departure_minute   716315 non-null  int64  \n",
            "dtypes: float64(4), int64(7), object(16)\n",
            "memory usage: 147.6+ MB\n"
          ]
        }
      ]
    },
    {
      "cell_type": "code",
      "source": [
        "print(df.shape)\n",
        "print(df1.shape)"
      ],
      "metadata": {
        "colab": {
          "base_uri": "https://localhost:8080/"
        },
        "id": "Hh6izwNlQ70h",
        "outputId": "c8b452b6-7037-41ec-eb87-fac03c3b890b"
      },
      "execution_count": null,
      "outputs": [
        {
          "output_type": "stream",
          "name": "stdout",
          "text": [
            "(716315, 27)\n",
            "(716315, 177)\n"
          ]
        }
      ]
    },
    {
      "cell_type": "code",
      "source": [
        "df2 = pd.merge(df, df1, left_index=True, right_index=True)\n",
        "print(df2.shape)\n",
        "print(df2.columns)"
      ],
      "metadata": {
        "colab": {
          "base_uri": "https://localhost:8080/"
        },
        "id": "FbB_ZyYvQ7yU",
        "outputId": "6db7cf46-1308-4dd1-d205-e275ef5edd81"
      },
      "execution_count": null,
      "outputs": [
        {
          "output_type": "stream",
          "name": "stdout",
          "text": [
            "(716315, 204)\n",
            "Index(['Unnamed: 0_x', 'arrival', 'day_x', 'train_name', 'station_name',\n",
            "       'station_code', 'id_x', 'train_number', 'departure', 'code',\n",
            "       ...\n",
            "       'to_station_code_9', 'time_of_day_0', 'time_of_day_1', 'time_of_day_2',\n",
            "       'is_peak_hour_y', 'travel_duration_y', 'arrival_hour_y',\n",
            "       'arrival_minute_y', 'departure_hour_y', 'departure_minute_y'],\n",
            "      dtype='object', length=204)\n"
          ]
        }
      ]
    },
    {
      "cell_type": "code",
      "source": [
        "df2.isna().sum()"
      ],
      "metadata": {
        "colab": {
          "base_uri": "https://localhost:8080/"
        },
        "id": "XUDfx-exQ7vx",
        "outputId": "04fa8310-4aa6-4160-d1a6-a9ebb7da21a8"
      },
      "execution_count": null,
      "outputs": [
        {
          "output_type": "execute_result",
          "data": {
            "text/plain": [
              "Unnamed: 0_x              0\n",
              "arrival                   0\n",
              "day_x                 23055\n",
              "train_name                8\n",
              "station_name              2\n",
              "                      ...  \n",
              "travel_duration_y         0\n",
              "arrival_hour_y            0\n",
              "arrival_minute_y          0\n",
              "departure_hour_y          0\n",
              "departure_minute_y        0\n",
              "Length: 204, dtype: int64"
            ]
          },
          "metadata": {},
          "execution_count": 66
        }
      ]
    },
    {
      "cell_type": "code",
      "source": [
        "# Forward fill missing values\n",
        "df2 = df2.fillna(method='ffill')\n",
        "\n",
        "# Backward fill missing values\n",
        "df2 = df2.fillna(method='bfill')"
      ],
      "metadata": {
        "id": "iRPu9mL0Q7tJ"
      },
      "execution_count": null,
      "outputs": []
    },
    {
      "cell_type": "code",
      "source": [
        "df2.isna().sum()"
      ],
      "metadata": {
        "colab": {
          "base_uri": "https://localhost:8080/"
        },
        "id": "zesTJjjCQ7qk",
        "outputId": "a1990ad5-0efe-47f3-8be2-ef0c111273f0"
      },
      "execution_count": null,
      "outputs": [
        {
          "output_type": "execute_result",
          "data": {
            "text/plain": [
              "Unnamed: 0_x          0\n",
              "arrival               0\n",
              "day_x                 0\n",
              "train_name            0\n",
              "station_name          0\n",
              "                     ..\n",
              "travel_duration_y     0\n",
              "arrival_hour_y        0\n",
              "arrival_minute_y      0\n",
              "departure_hour_y      0\n",
              "departure_minute_y    0\n",
              "Length: 204, dtype: int64"
            ]
          },
          "metadata": {},
          "execution_count": 68
        }
      ]
    },
    {
      "cell_type": "code",
      "source": [
        "df2.info()"
      ],
      "metadata": {
        "colab": {
          "base_uri": "https://localhost:8080/"
        },
        "id": "dkgq-R4CQ7ns",
        "outputId": "e4c0d34d-7f43-4aec-83e9-056f11582776"
      },
      "execution_count": null,
      "outputs": [
        {
          "output_type": "stream",
          "name": "stdout",
          "text": [
            "<class 'pandas.core.frame.DataFrame'>\n",
            "RangeIndex: 716315 entries, 0 to 716314\n",
            "Columns: 204 entries, Unnamed: 0_x to departure_minute_y\n",
            "dtypes: float64(8), int64(180), object(16)\n",
            "memory usage: 1.1+ GB\n"
          ]
        }
      ]
    },
    {
      "cell_type": "code",
      "source": [
        "from google.colab import drive\n",
        "drive.mount('/content/drive')"
      ],
      "metadata": {
        "id": "-v4tkA9DYmP1"
      },
      "execution_count": null,
      "outputs": []
    },
    {
      "cell_type": "code",
      "source": [
        "df2.to_csv('df3.csv', index=True)"
      ],
      "metadata": {
        "id": "r6YvV3y2Q7k1"
      },
      "execution_count": null,
      "outputs": []
    },
    {
      "cell_type": "code",
      "source": [],
      "metadata": {
        "id": "zbQEyV7xRaE-"
      },
      "execution_count": null,
      "outputs": []
    },
    {
      "cell_type": "code",
      "source": [],
      "metadata": {
        "id": "b7IzYkM9RaBp"
      },
      "execution_count": null,
      "outputs": []
    },
    {
      "cell_type": "code",
      "source": [],
      "metadata": {
        "id": "gpPXdmspRZ_Q"
      },
      "execution_count": null,
      "outputs": []
    },
    {
      "cell_type": "code",
      "source": [],
      "metadata": {
        "id": "PFfPAGIYRZ8e"
      },
      "execution_count": null,
      "outputs": []
    },
    {
      "cell_type": "code",
      "source": [],
      "metadata": {
        "id": "Y9HhfF1HRZ58"
      },
      "execution_count": null,
      "outputs": []
    },
    {
      "cell_type": "code",
      "source": [],
      "metadata": {
        "id": "m6wE5lVgRZ3a"
      },
      "execution_count": null,
      "outputs": []
    },
    {
      "cell_type": "code",
      "source": [],
      "metadata": {
        "id": "XgRlyexmRZ0m"
      },
      "execution_count": null,
      "outputs": []
    },
    {
      "cell_type": "code",
      "source": [],
      "metadata": {
        "id": "U3D9G-peRZyA"
      },
      "execution_count": null,
      "outputs": []
    },
    {
      "cell_type": "code",
      "source": [],
      "metadata": {
        "id": "qfhnZpYBRZuk"
      },
      "execution_count": null,
      "outputs": []
    }
  ]
}